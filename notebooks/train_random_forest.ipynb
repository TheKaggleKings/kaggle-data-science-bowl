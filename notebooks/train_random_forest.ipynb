{
 "cells": [
  {
   "cell_type": "code",
   "execution_count": 301,
   "metadata": {},
   "outputs": [],
   "source": [
    "import pandas as pd\n",
    "import sklearn\n",
    "import numpy as np\n",
    "from sklearn import preprocessing\n",
    "import sklearn.metrics as metrics\n",
    "from sklearn.preprocessing import LabelEncoder, OneHotEncoder"
   ]
  },
  {
   "cell_type": "code",
   "execution_count": 302,
   "metadata": {},
   "outputs": [
    {
     "data": {
      "text/html": [
       "<div>\n",
       "<style scoped>\n",
       "    .dataframe tbody tr th:only-of-type {\n",
       "        vertical-align: middle;\n",
       "    }\n",
       "\n",
       "    .dataframe tbody tr th {\n",
       "        vertical-align: top;\n",
       "    }\n",
       "\n",
       "    .dataframe thead th {\n",
       "        text-align: right;\n",
       "    }\n",
       "</style>\n",
       "<table border=\"1\" class=\"dataframe\">\n",
       "  <thead>\n",
       "    <tr style=\"text-align: right;\">\n",
       "      <th></th>\n",
       "      <th>installation_id</th>\n",
       "      <th>12 Monkeys</th>\n",
       "      <th>Air Show</th>\n",
       "      <th>All Star Sorting</th>\n",
       "      <th>Balancing Act</th>\n",
       "      <th>Bird Measurer (Assessment)</th>\n",
       "      <th>Bottle Filler (Activity)</th>\n",
       "      <th>Bubble Bath</th>\n",
       "      <th>Bug Measurer (Activity)</th>\n",
       "      <th>Cart Balancer (Assessment)</th>\n",
       "      <th>...</th>\n",
       "      <th>Tree Top City - Level 2</th>\n",
       "      <th>Tree Top City - Level 3</th>\n",
       "      <th>Watering Hole (Activity)</th>\n",
       "      <th>Welcome to Lost Lagoon!</th>\n",
       "      <th>game_session</th>\n",
       "      <th>title</th>\n",
       "      <th>num_correct</th>\n",
       "      <th>num_incorrect</th>\n",
       "      <th>accuracy</th>\n",
       "      <th>accuracy_group</th>\n",
       "    </tr>\n",
       "  </thead>\n",
       "  <tbody>\n",
       "    <tr>\n",
       "      <th>0</th>\n",
       "      <td>0006a69f</td>\n",
       "      <td>True</td>\n",
       "      <td>True</td>\n",
       "      <td>True</td>\n",
       "      <td>False</td>\n",
       "      <td>True</td>\n",
       "      <td>True</td>\n",
       "      <td>True</td>\n",
       "      <td>True</td>\n",
       "      <td>False</td>\n",
       "      <td>...</td>\n",
       "      <td>True</td>\n",
       "      <td>True</td>\n",
       "      <td>True</td>\n",
       "      <td>True</td>\n",
       "      <td>6bdf9623adc94d89</td>\n",
       "      <td>Mushroom Sorter (Assessment)</td>\n",
       "      <td>1</td>\n",
       "      <td>0</td>\n",
       "      <td>1.0</td>\n",
       "      <td>3</td>\n",
       "    </tr>\n",
       "    <tr>\n",
       "      <th>1</th>\n",
       "      <td>0006a69f</td>\n",
       "      <td>True</td>\n",
       "      <td>True</td>\n",
       "      <td>True</td>\n",
       "      <td>False</td>\n",
       "      <td>True</td>\n",
       "      <td>True</td>\n",
       "      <td>True</td>\n",
       "      <td>True</td>\n",
       "      <td>False</td>\n",
       "      <td>...</td>\n",
       "      <td>True</td>\n",
       "      <td>True</td>\n",
       "      <td>True</td>\n",
       "      <td>True</td>\n",
       "      <td>77b8ee947eb84b4e</td>\n",
       "      <td>Bird Measurer (Assessment)</td>\n",
       "      <td>0</td>\n",
       "      <td>11</td>\n",
       "      <td>0.0</td>\n",
       "      <td>0</td>\n",
       "    </tr>\n",
       "  </tbody>\n",
       "</table>\n",
       "<p>2 rows × 51 columns</p>\n",
       "</div>"
      ],
      "text/plain": [
       "  installation_id  12 Monkeys  Air Show  All Star Sorting  Balancing Act  \\\n",
       "0        0006a69f        True      True              True          False   \n",
       "1        0006a69f        True      True              True          False   \n",
       "\n",
       "   Bird Measurer (Assessment)  Bottle Filler (Activity)  Bubble Bath  \\\n",
       "0                        True                      True         True   \n",
       "1                        True                      True         True   \n",
       "\n",
       "   Bug Measurer (Activity)  Cart Balancer (Assessment)  ...  \\\n",
       "0                     True                       False  ...   \n",
       "1                     True                       False  ...   \n",
       "\n",
       "   Tree Top City - Level 2  Tree Top City - Level 3  Watering Hole (Activity)  \\\n",
       "0                     True                     True                      True   \n",
       "1                     True                     True                      True   \n",
       "\n",
       "   Welcome to Lost Lagoon!      game_session                         title  \\\n",
       "0                     True  6bdf9623adc94d89  Mushroom Sorter (Assessment)   \n",
       "1                     True  77b8ee947eb84b4e    Bird Measurer (Assessment)   \n",
       "\n",
       "   num_correct  num_incorrect  accuracy  accuracy_group  \n",
       "0            1              0       1.0               3  \n",
       "1            0             11       0.0               0  \n",
       "\n",
       "[2 rows x 51 columns]"
      ]
     },
     "execution_count": 302,
     "metadata": {},
     "output_type": "execute_result"
    }
   ],
   "source": [
    "features = pd.read_pickle(\"../data/processed/features.pkl\")\n",
    "features.head(2)"
   ]
  },
  {
   "cell_type": "code",
   "execution_count": 303,
   "metadata": {},
   "outputs": [],
   "source": [
    "# Labels are the values we want to predict\n",
    "labels = np.array(features['accuracy_group'])\n",
    "# Remove the labels from the features\n",
    "# axis 1 refers to the columns\n",
    "features= features.drop(['accuracy_group','accuracy','num_correct','num_incorrect','installation_id','game_session'], axis = 1)\n",
    "# Saving feature names for later use\n",
    "feature_list = list(features.columns)"
   ]
  },
  {
   "cell_type": "code",
   "execution_count": 304,
   "metadata": {},
   "outputs": [],
   "source": [
    "features=pd.get_dummies(features, prefix=['title'], columns=['title'])"
   ]
  },
  {
   "cell_type": "code",
   "execution_count": 305,
   "metadata": {},
   "outputs": [
    {
     "data": {
      "text/html": [
       "<div>\n",
       "<style scoped>\n",
       "    .dataframe tbody tr th:only-of-type {\n",
       "        vertical-align: middle;\n",
       "    }\n",
       "\n",
       "    .dataframe tbody tr th {\n",
       "        vertical-align: top;\n",
       "    }\n",
       "\n",
       "    .dataframe thead th {\n",
       "        text-align: right;\n",
       "    }\n",
       "</style>\n",
       "<table border=\"1\" class=\"dataframe\">\n",
       "  <thead>\n",
       "    <tr style=\"text-align: right;\">\n",
       "      <th></th>\n",
       "      <th>12 Monkeys</th>\n",
       "      <th>Air Show</th>\n",
       "      <th>All Star Sorting</th>\n",
       "      <th>Balancing Act</th>\n",
       "      <th>Bird Measurer (Assessment)</th>\n",
       "      <th>Bottle Filler (Activity)</th>\n",
       "      <th>Bubble Bath</th>\n",
       "      <th>Bug Measurer (Activity)</th>\n",
       "      <th>Cart Balancer (Assessment)</th>\n",
       "      <th>Cauldron Filler (Assessment)</th>\n",
       "      <th>...</th>\n",
       "      <th>Tree Top City - Level 1</th>\n",
       "      <th>Tree Top City - Level 2</th>\n",
       "      <th>Tree Top City - Level 3</th>\n",
       "      <th>Watering Hole (Activity)</th>\n",
       "      <th>Welcome to Lost Lagoon!</th>\n",
       "      <th>title_Bird Measurer (Assessment)</th>\n",
       "      <th>title_Cart Balancer (Assessment)</th>\n",
       "      <th>title_Cauldron Filler (Assessment)</th>\n",
       "      <th>title_Chest Sorter (Assessment)</th>\n",
       "      <th>title_Mushroom Sorter (Assessment)</th>\n",
       "    </tr>\n",
       "  </thead>\n",
       "  <tbody>\n",
       "    <tr>\n",
       "      <th>0</th>\n",
       "      <td>True</td>\n",
       "      <td>True</td>\n",
       "      <td>True</td>\n",
       "      <td>False</td>\n",
       "      <td>True</td>\n",
       "      <td>True</td>\n",
       "      <td>True</td>\n",
       "      <td>True</td>\n",
       "      <td>False</td>\n",
       "      <td>False</td>\n",
       "      <td>...</td>\n",
       "      <td>True</td>\n",
       "      <td>True</td>\n",
       "      <td>True</td>\n",
       "      <td>True</td>\n",
       "      <td>True</td>\n",
       "      <td>0</td>\n",
       "      <td>0</td>\n",
       "      <td>0</td>\n",
       "      <td>0</td>\n",
       "      <td>1</td>\n",
       "    </tr>\n",
       "    <tr>\n",
       "      <th>1</th>\n",
       "      <td>True</td>\n",
       "      <td>True</td>\n",
       "      <td>True</td>\n",
       "      <td>False</td>\n",
       "      <td>True</td>\n",
       "      <td>True</td>\n",
       "      <td>True</td>\n",
       "      <td>True</td>\n",
       "      <td>False</td>\n",
       "      <td>False</td>\n",
       "      <td>...</td>\n",
       "      <td>True</td>\n",
       "      <td>True</td>\n",
       "      <td>True</td>\n",
       "      <td>True</td>\n",
       "      <td>True</td>\n",
       "      <td>1</td>\n",
       "      <td>0</td>\n",
       "      <td>0</td>\n",
       "      <td>0</td>\n",
       "      <td>0</td>\n",
       "    </tr>\n",
       "  </tbody>\n",
       "</table>\n",
       "<p>2 rows × 49 columns</p>\n",
       "</div>"
      ],
      "text/plain": [
       "   12 Monkeys  Air Show  All Star Sorting  Balancing Act  \\\n",
       "0        True      True              True          False   \n",
       "1        True      True              True          False   \n",
       "\n",
       "   Bird Measurer (Assessment)  Bottle Filler (Activity)  Bubble Bath  \\\n",
       "0                        True                      True         True   \n",
       "1                        True                      True         True   \n",
       "\n",
       "   Bug Measurer (Activity)  Cart Balancer (Assessment)  \\\n",
       "0                     True                       False   \n",
       "1                     True                       False   \n",
       "\n",
       "   Cauldron Filler (Assessment)  ...  Tree Top City - Level 1  \\\n",
       "0                         False  ...                     True   \n",
       "1                         False  ...                     True   \n",
       "\n",
       "   Tree Top City - Level 2  Tree Top City - Level 3  Watering Hole (Activity)  \\\n",
       "0                     True                     True                      True   \n",
       "1                     True                     True                      True   \n",
       "\n",
       "   Welcome to Lost Lagoon!  title_Bird Measurer (Assessment)  \\\n",
       "0                     True                                 0   \n",
       "1                     True                                 1   \n",
       "\n",
       "   title_Cart Balancer (Assessment)  title_Cauldron Filler (Assessment)  \\\n",
       "0                                 0                                   0   \n",
       "1                                 0                                   0   \n",
       "\n",
       "   title_Chest Sorter (Assessment)  title_Mushroom Sorter (Assessment)  \n",
       "0                                0                                   1  \n",
       "1                                0                                   0  \n",
       "\n",
       "[2 rows x 49 columns]"
      ]
     },
     "execution_count": 305,
     "metadata": {},
     "output_type": "execute_result"
    }
   ],
   "source": [
    "features.head(2)"
   ]
  },
  {
   "cell_type": "code",
   "execution_count": 306,
   "metadata": {},
   "outputs": [],
   "source": [
    "# Convert to numpy array\n",
    "features = np.array(features)"
   ]
  },
  {
   "cell_type": "code",
   "execution_count": 309,
   "metadata": {},
   "outputs": [],
   "source": [
    "# Using Skicit-learn to split data into training and testing sets\n",
    "from sklearn.model_selection import train_test_split\n",
    "# Split the data into training and testing sets\n",
    "train_features, test_features, train_labels, test_labels = train_test_split(features, labels, test_size = 0.25, random_state = 42)"
   ]
  },
  {
   "cell_type": "code",
   "execution_count": 310,
   "metadata": {},
   "outputs": [
    {
     "name": "stdout",
     "output_type": "stream",
     "text": [
      "Training Features Shape: (13267, 49)\n",
      "Training Labels Shape: (13267,)\n",
      "Testing Features Shape: (4423, 49)\n",
      "Testing Labels Shape: (4423,)\n"
     ]
    }
   ],
   "source": [
    "print('Training Features Shape:', train_features.shape)\n",
    "print('Training Labels Shape:', train_labels.shape)\n",
    "print('Testing Features Shape:', test_features.shape)\n",
    "print('Testing Labels Shape:', test_labels.shape)\n"
   ]
  },
  {
   "cell_type": "code",
   "execution_count": 312,
   "metadata": {},
   "outputs": [],
   "source": [
    "# Import the model we are using\n",
    "from sklearn.ensemble import RandomForestRegressor\n",
    "# Instantiate model with 1000 decision trees\n",
    "rf = RandomForestRegressor(n_estimators = 1000, random_state = 42)\n",
    "# Train the model on training data\n",
    "rf.fit(train_features, train_labels);"
   ]
  },
  {
   "cell_type": "code",
   "execution_count": 313,
   "metadata": {},
   "outputs": [],
   "source": [
    "# Use the forest's predict method on the test data\n",
    "predictions = rf.predict(test_features)"
   ]
  },
  {
   "cell_type": "code",
   "execution_count": 314,
   "metadata": {},
   "outputs": [],
   "source": [
    "def prepare_for_comparison(predictions,labels):\n",
    "    predictions_formatted=predictions.round()\n",
    "    labels_formatted=labels.round()\n",
    "    labels_formatted_pd=pd.DataFrame(data=labels_formatted,columns=[['labels']])\n",
    "    print(labels_formatted_pd.tail())\n",
    "    predictions_formatted_pd=pd.DataFrame(predictions_formatted,columns=[['predictions']])\n",
    "    combined_df=pd.concat([predictions_formatted_pd,labels_formatted_pd],axis=1)\n",
    "    combined_df.columns=['predictions', 'labels']\n",
    "    combined_df['predictions']=combined_df['predictions'].map(lambda x : int(x))\n",
    "    \n",
    "    return combined_df"
   ]
  },
  {
   "cell_type": "code",
   "execution_count": 315,
   "metadata": {},
   "outputs": [
    {
     "name": "stdout",
     "output_type": "stream",
     "text": [
      "     labels\n",
      "4418      3\n",
      "4419      3\n",
      "4420      3\n",
      "4421      3\n",
      "4422      3\n"
     ]
    }
   ],
   "source": [
    "combined = prepare_for_comparison(predictions,test_labels)"
   ]
  },
  {
   "cell_type": "code",
   "execution_count": 316,
   "metadata": {},
   "outputs": [],
   "source": [
    "predictions_train = rf.predict(train_features)"
   ]
  },
  {
   "cell_type": "code",
   "execution_count": 317,
   "metadata": {},
   "outputs": [
    {
     "name": "stdout",
     "output_type": "stream",
     "text": [
      "      labels\n",
      "13262      2\n",
      "13263      3\n",
      "13264      3\n",
      "13265      3\n",
      "13266      3\n"
     ]
    }
   ],
   "source": [
    "combined_train = prepare_for_comparison(predictions_train,train_labels)"
   ]
  },
  {
   "cell_type": "code",
   "execution_count": 318,
   "metadata": {},
   "outputs": [
    {
     "data": {
      "text/html": [
       "<div>\n",
       "<style scoped>\n",
       "    .dataframe tbody tr th:only-of-type {\n",
       "        vertical-align: middle;\n",
       "    }\n",
       "\n",
       "    .dataframe tbody tr th {\n",
       "        vertical-align: top;\n",
       "    }\n",
       "\n",
       "    .dataframe thead th {\n",
       "        text-align: right;\n",
       "    }\n",
       "</style>\n",
       "<table border=\"1\" class=\"dataframe\">\n",
       "  <thead>\n",
       "    <tr style=\"text-align: right;\">\n",
       "      <th></th>\n",
       "      <th>predictions</th>\n",
       "      <th>labels</th>\n",
       "    </tr>\n",
       "  </thead>\n",
       "  <tbody>\n",
       "    <tr>\n",
       "      <th>0</th>\n",
       "      <td>3</td>\n",
       "      <td>3</td>\n",
       "    </tr>\n",
       "    <tr>\n",
       "      <th>1</th>\n",
       "      <td>0</td>\n",
       "      <td>3</td>\n",
       "    </tr>\n",
       "    <tr>\n",
       "      <th>2</th>\n",
       "      <td>2</td>\n",
       "      <td>2</td>\n",
       "    </tr>\n",
       "    <tr>\n",
       "      <th>3</th>\n",
       "      <td>0</td>\n",
       "      <td>0</td>\n",
       "    </tr>\n",
       "    <tr>\n",
       "      <th>4</th>\n",
       "      <td>3</td>\n",
       "      <td>3</td>\n",
       "    </tr>\n",
       "    <tr>\n",
       "      <th>...</th>\n",
       "      <td>...</td>\n",
       "      <td>...</td>\n",
       "    </tr>\n",
       "    <tr>\n",
       "      <th>4418</th>\n",
       "      <td>2</td>\n",
       "      <td>3</td>\n",
       "    </tr>\n",
       "    <tr>\n",
       "      <th>4419</th>\n",
       "      <td>2</td>\n",
       "      <td>3</td>\n",
       "    </tr>\n",
       "    <tr>\n",
       "      <th>4420</th>\n",
       "      <td>1</td>\n",
       "      <td>3</td>\n",
       "    </tr>\n",
       "    <tr>\n",
       "      <th>4421</th>\n",
       "      <td>3</td>\n",
       "      <td>3</td>\n",
       "    </tr>\n",
       "    <tr>\n",
       "      <th>4422</th>\n",
       "      <td>2</td>\n",
       "      <td>3</td>\n",
       "    </tr>\n",
       "  </tbody>\n",
       "</table>\n",
       "<p>4423 rows × 2 columns</p>\n",
       "</div>"
      ],
      "text/plain": [
       "      predictions  labels\n",
       "0               3       3\n",
       "1               0       3\n",
       "2               2       2\n",
       "3               0       0\n",
       "4               3       3\n",
       "...           ...     ...\n",
       "4418            2       3\n",
       "4419            2       3\n",
       "4420            1       3\n",
       "4421            3       3\n",
       "4422            2       3\n",
       "\n",
       "[4423 rows x 2 columns]"
      ]
     },
     "execution_count": 318,
     "metadata": {},
     "output_type": "execute_result"
    }
   ],
   "source": [
    "combined"
   ]
  },
  {
   "cell_type": "code",
   "execution_count": 319,
   "metadata": {},
   "outputs": [
    {
     "name": "stdout",
     "output_type": "stream",
     "text": [
      "<class 'pandas.core.frame.DataFrame'>\n",
      "RangeIndex: 4423 entries, 0 to 4422\n",
      "Data columns (total 2 columns):\n",
      "predictions    4423 non-null int64\n",
      "labels         4423 non-null int64\n",
      "dtypes: int64(2)\n",
      "memory usage: 69.2 KB\n"
     ]
    }
   ],
   "source": [
    "combined.info()"
   ]
  },
  {
   "cell_type": "code",
   "execution_count": 320,
   "metadata": {},
   "outputs": [
    {
     "data": {
      "text/html": [
       "<div>\n",
       "<style scoped>\n",
       "    .dataframe tbody tr th:only-of-type {\n",
       "        vertical-align: middle;\n",
       "    }\n",
       "\n",
       "    .dataframe tbody tr th {\n",
       "        vertical-align: top;\n",
       "    }\n",
       "\n",
       "    .dataframe thead th {\n",
       "        text-align: right;\n",
       "    }\n",
       "</style>\n",
       "<table border=\"1\" class=\"dataframe\">\n",
       "  <thead>\n",
       "    <tr style=\"text-align: right;\">\n",
       "      <th></th>\n",
       "      <th>predictions</th>\n",
       "      <th>labels</th>\n",
       "    </tr>\n",
       "  </thead>\n",
       "  <tbody>\n",
       "    <tr>\n",
       "      <th>0</th>\n",
       "      <td>1</td>\n",
       "      <td>1</td>\n",
       "    </tr>\n",
       "    <tr>\n",
       "      <th>1</th>\n",
       "      <td>3</td>\n",
       "      <td>3</td>\n",
       "    </tr>\n",
       "    <tr>\n",
       "      <th>2</th>\n",
       "      <td>1</td>\n",
       "      <td>0</td>\n",
       "    </tr>\n",
       "    <tr>\n",
       "      <th>3</th>\n",
       "      <td>3</td>\n",
       "      <td>3</td>\n",
       "    </tr>\n",
       "    <tr>\n",
       "      <th>4</th>\n",
       "      <td>3</td>\n",
       "      <td>3</td>\n",
       "    </tr>\n",
       "    <tr>\n",
       "      <th>...</th>\n",
       "      <td>...</td>\n",
       "      <td>...</td>\n",
       "    </tr>\n",
       "    <tr>\n",
       "      <th>13262</th>\n",
       "      <td>2</td>\n",
       "      <td>2</td>\n",
       "    </tr>\n",
       "    <tr>\n",
       "      <th>13263</th>\n",
       "      <td>3</td>\n",
       "      <td>3</td>\n",
       "    </tr>\n",
       "    <tr>\n",
       "      <th>13264</th>\n",
       "      <td>3</td>\n",
       "      <td>3</td>\n",
       "    </tr>\n",
       "    <tr>\n",
       "      <th>13265</th>\n",
       "      <td>3</td>\n",
       "      <td>3</td>\n",
       "    </tr>\n",
       "    <tr>\n",
       "      <th>13266</th>\n",
       "      <td>3</td>\n",
       "      <td>3</td>\n",
       "    </tr>\n",
       "  </tbody>\n",
       "</table>\n",
       "<p>13267 rows × 2 columns</p>\n",
       "</div>"
      ],
      "text/plain": [
       "       predictions  labels\n",
       "0                1       1\n",
       "1                3       3\n",
       "2                1       0\n",
       "3                3       3\n",
       "4                3       3\n",
       "...            ...     ...\n",
       "13262            2       2\n",
       "13263            3       3\n",
       "13264            3       3\n",
       "13265            3       3\n",
       "13266            3       3\n",
       "\n",
       "[13267 rows x 2 columns]"
      ]
     },
     "execution_count": 320,
     "metadata": {},
     "output_type": "execute_result"
    }
   ],
   "source": [
    "combined_train"
   ]
  },
  {
   "cell_type": "code",
   "execution_count": 321,
   "metadata": {},
   "outputs": [
    {
     "name": "stdout",
     "output_type": "stream",
     "text": [
      "<class 'pandas.core.frame.DataFrame'>\n",
      "RangeIndex: 13267 entries, 0 to 13266\n",
      "Data columns (total 2 columns):\n",
      "predictions    13267 non-null int64\n",
      "labels         13267 non-null int64\n",
      "dtypes: int64(2)\n",
      "memory usage: 207.4 KB\n"
     ]
    }
   ],
   "source": [
    "combined_train.info()"
   ]
  },
  {
   "cell_type": "code",
   "execution_count": 322,
   "metadata": {},
   "outputs": [
    {
     "data": {
      "text/plain": [
       "0.37"
      ]
     },
     "execution_count": 322,
     "metadata": {},
     "output_type": "execute_result"
    }
   ],
   "source": [
    "comparison=combined['predictions']==combined['labels']\n",
    "round(comparison.sum()/len(comparison),2)"
   ]
  },
  {
   "cell_type": "code",
   "execution_count": 323,
   "metadata": {},
   "outputs": [
    {
     "data": {
      "text/plain": [
       "0.59"
      ]
     },
     "execution_count": 323,
     "metadata": {},
     "output_type": "execute_result"
    }
   ],
   "source": [
    "comparison=combined_train['predictions']==combined_train['labels']\n",
    "round(comparison.sum()/len(comparison),2)"
   ]
  },
  {
   "cell_type": "code",
   "execution_count": 324,
   "metadata": {},
   "outputs": [
    {
     "name": "stdout",
     "output_type": "stream",
     "text": [
      "              precision    recall  f1-score   support\n",
      "\n",
      "           0       0.79      0.24      0.36      1050\n",
      "           1       0.23      0.43      0.30       611\n",
      "           2       0.16      0.53      0.25       564\n",
      "           3       0.76      0.38      0.51      2198\n",
      "\n",
      "    accuracy                           0.37      4423\n",
      "   macro avg       0.48      0.39      0.35      4423\n",
      "weighted avg       0.62      0.37      0.41      4423\n",
      "\n"
     ]
    }
   ],
   "source": [
    "print(sklearn.metrics.classification_report(combined['labels'], combined['predictions']))"
   ]
  },
  {
   "cell_type": "code",
   "execution_count": 325,
   "metadata": {},
   "outputs": [
    {
     "name": "stdout",
     "output_type": "stream",
     "text": [
      "              precision    recall  f1-score   support\n",
      "\n",
      "           0       0.98      0.50      0.66      3179\n",
      "           1       0.38      0.61      0.47      1800\n",
      "           2       0.26      0.72      0.38      1641\n",
      "           3       0.94      0.60      0.73      6647\n",
      "\n",
      "    accuracy                           0.59     13267\n",
      "   macro avg       0.64      0.61      0.56     13267\n",
      "weighted avg       0.79      0.59      0.64     13267\n",
      "\n"
     ]
    }
   ],
   "source": [
    "print(sklearn.metrics.classification_report(combined_train['labels'], combined_train['predictions']))"
   ]
  },
  {
   "cell_type": "code",
   "execution_count": 326,
   "metadata": {},
   "outputs": [
    {
     "name": "stdout",
     "output_type": "stream",
     "text": [
      "0.24\n",
      "0.14\n",
      "0.12\n",
      "0.5\n"
     ]
    }
   ],
   "source": [
    "print(round(len(combined_train[combined_train['labels']==0])/len(combined_train),2))\n",
    "print(round(len(combined_train[combined_train['labels']==1])/len(combined_train),2))\n",
    "print(round(len(combined_train[combined_train['labels']==2])/len(combined_train),2))\n",
    "print(round(len(combined_train[combined_train['labels']==3])/len(combined_train),2))"
   ]
  },
  {
   "cell_type": "code",
   "execution_count": null,
   "metadata": {},
   "outputs": [],
   "source": []
  },
  {
   "cell_type": "code",
   "execution_count": null,
   "metadata": {},
   "outputs": [],
   "source": []
  },
  {
   "cell_type": "code",
   "execution_count": null,
   "metadata": {},
   "outputs": [],
   "source": []
  },
  {
   "cell_type": "code",
   "execution_count": null,
   "metadata": {},
   "outputs": [],
   "source": []
  },
  {
   "cell_type": "code",
   "execution_count": null,
   "metadata": {},
   "outputs": [],
   "source": []
  }
 ],
 "metadata": {
  "kernelspec": {
   "display_name": "Python 3",
   "language": "python",
   "name": "python3"
  },
  "language_info": {
   "codemirror_mode": {
    "name": "ipython",
    "version": 3
   },
   "file_extension": ".py",
   "mimetype": "text/x-python",
   "name": "python",
   "nbconvert_exporter": "python",
   "pygments_lexer": "ipython3",
   "version": "3.7.6"
  }
 },
 "nbformat": 4,
 "nbformat_minor": 4
}
