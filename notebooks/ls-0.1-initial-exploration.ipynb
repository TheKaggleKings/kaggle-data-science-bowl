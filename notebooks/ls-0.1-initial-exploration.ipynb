{
 "cells": [
  {
   "cell_type": "markdown",
   "metadata": {},
   "source": [
    "### Optimising memory and disk usage\n",
    "\n",
    "Strategies have been taken from:\n",
    "\n",
    "https://www.kaggle.com/frankherfert/tips-tricks-for-working-with-large-datasets"
   ]
  },
  {
   "cell_type": "markdown",
   "metadata": {},
   "source": [
    "### Classes and Methods"
   ]
  },
  {
   "cell_type": "code",
   "execution_count": null,
   "metadata": {},
   "outputs": [],
   "source": [
    "class dataframe_optimiser():\n",
    "    def __init__(self, conversion):\n",
    "        self.conversion = conversion\n",
    "        \n",
    "    def convert_series(self,array_of_series):\n",
    "        returned_series=[]\n",
    "        for series in array_of_series:\n",
    "            print(\"converting: \",series.name,\"\\t\\t\\tsize (MB):\", round(series.memory_usage(deep=True) * 1e-6,2),end=\"\\t\")\n",
    "#             series=eval(\"series\"+test.conversion)\n",
    "            series=eval(self.conversion)\n",
    "            print(\"->\\t\", round(series.memory_usage(deep=True) * 1e-6,2))\n",
    "            returned_series.append(series)\n",
    "        return returned_series\n"
   ]
  },
  {
   "cell_type": "markdown",
   "metadata": {},
   "source": [
    "### Import Statements\n"
   ]
  },
  {
   "cell_type": "code",
   "execution_count": 3,
   "metadata": {},
   "outputs": [],
   "source": [
    "import pandas as pd\n",
    "import os"
   ]
  },
  {
   "cell_type": "markdown",
   "metadata": {},
   "source": [
    "### Load Raw Data\n",
    "\n",
    "https://stackoverflow.com/questions/14262433/large-data-work-flows-using-pandas/14268804#14268804"
   ]
  },
  {
   "cell_type": "code",
   "execution_count": 4,
   "metadata": {},
   "outputs": [
    {
     "name": "stdout",
     "output_type": "stream",
     "text": [
      "2\n",
      "   event_id      game_session                 timestamp  \\\n",
      "0  27253bdc  45bb1e1b6b50c07b  2019-09-06T17:53:46.937Z   \n",
      "1  27253bdc  17eeb7f223665f53  2019-09-06T17:54:17.519Z   \n",
      "2  77261ab5  0848ef14a8dc6892  2019-09-06T17:54:56.302Z   \n",
      "3  b2dba42b  0848ef14a8dc6892  2019-09-06T17:54:56.387Z   \n",
      "4  1bb5fbdb  0848ef14a8dc6892  2019-09-06T17:55:03.253Z   \n",
      "\n",
      "                                          event_data installation_id  \\\n",
      "0             {\"event_code\": 2000, \"event_count\": 1}        0001e90f   \n",
      "1             {\"event_code\": 2000, \"event_count\": 1}        0001e90f   \n",
      "2  {\"version\":\"1.0\",\"event_count\":1,\"game_time\":0...        0001e90f   \n",
      "3  {\"description\":\"Let's build a sandcastle! Firs...        0001e90f   \n",
      "4  {\"description\":\"Let's build a sandcastle! Firs...        0001e90f   \n",
      "\n",
      "   event_count  event_code  game_time                          title  \\\n",
      "0            1        2000          0        Welcome to Lost Lagoon!   \n",
      "1            1        2000          0           Magma Peak - Level 1   \n",
      "2            1        2000          0  Sandcastle Builder (Activity)   \n",
      "3            2        3010         53  Sandcastle Builder (Activity)   \n",
      "4            3        3110       6972  Sandcastle Builder (Activity)   \n",
      "\n",
      "       type      world  \n",
      "0      Clip       NONE  \n",
      "1      Clip  MAGMAPEAK  \n",
      "2  Activity  MAGMAPEAK  \n",
      "3  Activity  MAGMAPEAK  \n",
      "4  Activity  MAGMAPEAK  \n",
      "CPU times: user 4.29 s, sys: 313 ms, total: 4.6 s\n",
      "Wall time: 4.08 s\n"
     ]
    }
   ],
   "source": [
    "%%time\n",
    "i=1\n",
    "chunksize = 10 ** 6\n",
    "for chunk in pd.read_csv(\"../data/raw/train.csv\", chunksize=chunksize):\n",
    "    i+=1\n",
    "    print(i)\n",
    "    print(chunk.head())\n",
    "    if i==2:\n",
    "        break\n",
    "        "
   ]
  },
  {
   "cell_type": "code",
   "execution_count": 5,
   "metadata": {},
   "outputs": [],
   "source": [
    "sample_data=chunk"
   ]
  },
  {
   "cell_type": "code",
   "execution_count": 6,
   "metadata": {},
   "outputs": [
    {
     "data": {
      "text/html": [
       "<div>\n",
       "<style scoped>\n",
       "    .dataframe tbody tr th:only-of-type {\n",
       "        vertical-align: middle;\n",
       "    }\n",
       "\n",
       "    .dataframe tbody tr th {\n",
       "        vertical-align: top;\n",
       "    }\n",
       "\n",
       "    .dataframe thead th {\n",
       "        text-align: right;\n",
       "    }\n",
       "</style>\n",
       "<table border=\"1\" class=\"dataframe\">\n",
       "  <thead>\n",
       "    <tr style=\"text-align: right;\">\n",
       "      <th></th>\n",
       "      <th>event_id</th>\n",
       "      <th>game_session</th>\n",
       "      <th>timestamp</th>\n",
       "      <th>event_data</th>\n",
       "      <th>installation_id</th>\n",
       "      <th>event_count</th>\n",
       "      <th>event_code</th>\n",
       "      <th>game_time</th>\n",
       "      <th>title</th>\n",
       "      <th>type</th>\n",
       "      <th>world</th>\n",
       "    </tr>\n",
       "  </thead>\n",
       "  <tbody>\n",
       "    <tr>\n",
       "      <td>0</td>\n",
       "      <td>27253bdc</td>\n",
       "      <td>45bb1e1b6b50c07b</td>\n",
       "      <td>2019-09-06T17:53:46.937Z</td>\n",
       "      <td>{\"event_code\": 2000, \"event_count\": 1}</td>\n",
       "      <td>0001e90f</td>\n",
       "      <td>1</td>\n",
       "      <td>2000</td>\n",
       "      <td>0</td>\n",
       "      <td>Welcome to Lost Lagoon!</td>\n",
       "      <td>Clip</td>\n",
       "      <td>NONE</td>\n",
       "    </tr>\n",
       "    <tr>\n",
       "      <td>1</td>\n",
       "      <td>27253bdc</td>\n",
       "      <td>17eeb7f223665f53</td>\n",
       "      <td>2019-09-06T17:54:17.519Z</td>\n",
       "      <td>{\"event_code\": 2000, \"event_count\": 1}</td>\n",
       "      <td>0001e90f</td>\n",
       "      <td>1</td>\n",
       "      <td>2000</td>\n",
       "      <td>0</td>\n",
       "      <td>Magma Peak - Level 1</td>\n",
       "      <td>Clip</td>\n",
       "      <td>MAGMAPEAK</td>\n",
       "    </tr>\n",
       "    <tr>\n",
       "      <td>2</td>\n",
       "      <td>77261ab5</td>\n",
       "      <td>0848ef14a8dc6892</td>\n",
       "      <td>2019-09-06T17:54:56.302Z</td>\n",
       "      <td>{\"version\":\"1.0\",\"event_count\":1,\"game_time\":0...</td>\n",
       "      <td>0001e90f</td>\n",
       "      <td>1</td>\n",
       "      <td>2000</td>\n",
       "      <td>0</td>\n",
       "      <td>Sandcastle Builder (Activity)</td>\n",
       "      <td>Activity</td>\n",
       "      <td>MAGMAPEAK</td>\n",
       "    </tr>\n",
       "    <tr>\n",
       "      <td>3</td>\n",
       "      <td>b2dba42b</td>\n",
       "      <td>0848ef14a8dc6892</td>\n",
       "      <td>2019-09-06T17:54:56.387Z</td>\n",
       "      <td>{\"description\":\"Let's build a sandcastle! Firs...</td>\n",
       "      <td>0001e90f</td>\n",
       "      <td>2</td>\n",
       "      <td>3010</td>\n",
       "      <td>53</td>\n",
       "      <td>Sandcastle Builder (Activity)</td>\n",
       "      <td>Activity</td>\n",
       "      <td>MAGMAPEAK</td>\n",
       "    </tr>\n",
       "    <tr>\n",
       "      <td>4</td>\n",
       "      <td>1bb5fbdb</td>\n",
       "      <td>0848ef14a8dc6892</td>\n",
       "      <td>2019-09-06T17:55:03.253Z</td>\n",
       "      <td>{\"description\":\"Let's build a sandcastle! Firs...</td>\n",
       "      <td>0001e90f</td>\n",
       "      <td>3</td>\n",
       "      <td>3110</td>\n",
       "      <td>6972</td>\n",
       "      <td>Sandcastle Builder (Activity)</td>\n",
       "      <td>Activity</td>\n",
       "      <td>MAGMAPEAK</td>\n",
       "    </tr>\n",
       "  </tbody>\n",
       "</table>\n",
       "</div>"
      ],
      "text/plain": [
       "   event_id      game_session                 timestamp  \\\n",
       "0  27253bdc  45bb1e1b6b50c07b  2019-09-06T17:53:46.937Z   \n",
       "1  27253bdc  17eeb7f223665f53  2019-09-06T17:54:17.519Z   \n",
       "2  77261ab5  0848ef14a8dc6892  2019-09-06T17:54:56.302Z   \n",
       "3  b2dba42b  0848ef14a8dc6892  2019-09-06T17:54:56.387Z   \n",
       "4  1bb5fbdb  0848ef14a8dc6892  2019-09-06T17:55:03.253Z   \n",
       "\n",
       "                                          event_data installation_id  \\\n",
       "0             {\"event_code\": 2000, \"event_count\": 1}        0001e90f   \n",
       "1             {\"event_code\": 2000, \"event_count\": 1}        0001e90f   \n",
       "2  {\"version\":\"1.0\",\"event_count\":1,\"game_time\":0...        0001e90f   \n",
       "3  {\"description\":\"Let's build a sandcastle! Firs...        0001e90f   \n",
       "4  {\"description\":\"Let's build a sandcastle! Firs...        0001e90f   \n",
       "\n",
       "   event_count  event_code  game_time                          title  \\\n",
       "0            1        2000          0        Welcome to Lost Lagoon!   \n",
       "1            1        2000          0           Magma Peak - Level 1   \n",
       "2            1        2000          0  Sandcastle Builder (Activity)   \n",
       "3            2        3010         53  Sandcastle Builder (Activity)   \n",
       "4            3        3110       6972  Sandcastle Builder (Activity)   \n",
       "\n",
       "       type      world  \n",
       "0      Clip       NONE  \n",
       "1      Clip  MAGMAPEAK  \n",
       "2  Activity  MAGMAPEAK  \n",
       "3  Activity  MAGMAPEAK  \n",
       "4  Activity  MAGMAPEAK  "
      ]
     },
     "execution_count": 6,
     "metadata": {},
     "output_type": "execute_result"
    }
   ],
   "source": [
    "sample_data.head()"
   ]
  },
  {
   "cell_type": "markdown",
   "metadata": {},
   "source": [
    "### Investigating memory usage"
   ]
  },
  {
   "cell_type": "code",
   "execution_count": 7,
   "metadata": {},
   "outputs": [
    {
     "name": "stdout",
     "output_type": "stream",
     "text": [
      "<class 'pandas.core.frame.DataFrame'>\n",
      "RangeIndex: 1000000 entries, 0 to 999999\n",
      "Data columns (total 11 columns):\n",
      "event_id           1000000 non-null object\n",
      "game_session       1000000 non-null object\n",
      "timestamp          1000000 non-null object\n",
      "event_data         1000000 non-null object\n",
      "installation_id    1000000 non-null object\n",
      "event_count        1000000 non-null int64\n",
      "event_code         1000000 non-null int64\n",
      "game_time          1000000 non-null int64\n",
      "title              1000000 non-null object\n",
      "type               1000000 non-null object\n",
      "world              1000000 non-null object\n",
      "dtypes: int64(3), object(8)\n",
      "memory usage: 734.4 MB\n",
      "CPU times: user 4.59 s, sys: 31.2 ms, total: 4.62 s\n",
      "Wall time: 4.1 s\n"
     ]
    }
   ],
   "source": [
    "%%time\n",
    "sample_data.info(memory_usage=\"deep\")"
   ]
  },
  {
   "cell_type": "code",
   "execution_count": 8,
   "metadata": {},
   "outputs": [
    {
     "name": "stdout",
     "output_type": "stream",
     "text": [
      "CPU times: user 3.66 s, sys: 10.3 ms, total: 3.67 s\n",
      "Wall time: 3.68 s\n"
     ]
    },
    {
     "data": {
      "text/plain": [
       "Index                0.000128\n",
       "event_id            65.000000\n",
       "game_session        73.000000\n",
       "timestamp           81.000000\n",
       "event_data         256.591707\n",
       "installation_id     65.000000\n",
       "event_count          8.000000\n",
       "event_code           8.000000\n",
       "game_time            8.000000\n",
       "title               75.011046\n",
       "type                63.142324\n",
       "world               67.372441\n",
       "dtype: float64"
      ]
     },
     "execution_count": 8,
     "metadata": {},
     "output_type": "execute_result"
    }
   ],
   "source": [
    "%%time\n",
    "sample_data.memory_usage(deep=True) * 1e-6"
   ]
  },
  {
   "cell_type": "code",
   "execution_count": null,
   "metadata": {},
   "outputs": [],
   "source": []
  },
  {
   "cell_type": "code",
   "execution_count": 9,
   "metadata": {},
   "outputs": [
    {
     "name": "stdout",
     "output_type": "stream",
     "text": [
      "The space on disk is (MB):  770.12\n"
     ]
    }
   ],
   "source": [
    "initial_memory_usage=sample_data.memory_usage(deep=True).sum() * 1e-6\n",
    "print(\"The space on disk is (MB): \",round(initial_memory_usage,2))"
   ]
  },
  {
   "cell_type": "markdown",
   "metadata": {},
   "source": [
    "### Timestamp conversion\n",
    "\n",
    "Converting the timestamp to a numpy datetime type reduces the memory usage by a factor of 10."
   ]
  },
  {
   "cell_type": "code",
   "execution_count": 10,
   "metadata": {},
   "outputs": [
    {
     "name": "stdout",
     "output_type": "stream",
     "text": [
      "converting:  timestamp \t\t\tsize (MB): 81.0\t->\t 8.0\n"
     ]
    }
   ],
   "source": [
    "\n",
    "#instantiate category_converter object from dataframe_optimiser class\n",
    "category_converter=dataframe_optimiser(\"pd.to_datetime(series)\")\n",
    "\n",
    "#convert array of series from dataframe to optimised datatype\n",
    "[sample_data[\"timestamp\"]]=category_converter.convert_series([sample_data[\"timestamp\"]])\n"
   ]
  },
  {
   "cell_type": "markdown",
   "metadata": {},
   "source": [
    "### Categorical value conversion\n",
    "\n",
    "Converting the categorical values from strings to a numerical index leads to reductions of up to 75x"
   ]
  },
  {
   "cell_type": "code",
   "execution_count": 11,
   "metadata": {},
   "outputs": [
    {
     "name": "stdout",
     "output_type": "stream",
     "text": [
      "converting:  title \t\t\tsize (MB): 75.01\t->\t 1.0\n",
      "converting:  world \t\t\tsize (MB): 67.37\t->\t 1.0\n",
      "converting:  event_code \t\t\tsize (MB): 8.0\t->\t 1.0\n",
      "converting:  event_count \t\t\tsize (MB): 8.0\t->\t 2.1\n",
      "converting:  installation_id \t\t\tsize (MB): 65.0\t->\t 2.19\n"
     ]
    }
   ],
   "source": [
    "#instantiate category_converter object from dataframe_optimiser class\n",
    "category_converter=dataframe_optimiser(\"series.astype('category')\")\n",
    "\n",
    "#convert array of series from dataframe to optimised datatype\n",
    "[sample_data[\"title\"],sample_data[\"world\"],sample_data[\"event_code\"],sample_data[\"event_count\"],sample_data[\"installation_id\"]]=category_converter.convert_series([sample_data[\"title\"],sample_data[\"world\"],sample_data[\"event_code\"],sample_data[\"event_count\"],sample_data[\"installation_id\"]])\n"
   ]
  },
  {
   "cell_type": "markdown",
   "metadata": {},
   "source": [
    "### Final Data Frame"
   ]
  },
  {
   "cell_type": "code",
   "execution_count": 18,
   "metadata": {},
   "outputs": [
    {
     "name": "stdout",
     "output_type": "stream",
     "text": [
      "<class 'pandas.core.frame.DataFrame'>\n",
      "RangeIndex: 1000000 entries, 0 to 999999\n",
      "Data columns (total 11 columns):\n",
      "event_id           1000000 non-null object\n",
      "game_session       1000000 non-null object\n",
      "timestamp          1000000 non-null datetime64[ns, UTC]\n",
      "event_data         1000000 non-null object\n",
      "installation_id    1000000 non-null category\n",
      "event_count        1000000 non-null category\n",
      "event_code         1000000 non-null category\n",
      "game_time          1000000 non-null int64\n",
      "title              1000000 non-null category\n",
      "type               1000000 non-null object\n",
      "world              1000000 non-null category\n",
      "dtypes: category(5), datetime64[ns, UTC](1), int64(1), object(4)\n",
      "memory usage: 52.6+ MB\n"
     ]
    }
   ],
   "source": [
    "sample_data.info()"
   ]
  },
  {
   "cell_type": "markdown",
   "metadata": {},
   "source": [
    "### Final size in memory\n",
    "\n",
    "The size in memory has been reduced by almost a factor of 2.\n",
    "\n",
    "It will be determined whether the conversion to category impacts the machine learning models."
   ]
  },
  {
   "cell_type": "code",
   "execution_count": 12,
   "metadata": {},
   "outputs": [
    {
     "name": "stdout",
     "output_type": "stream",
     "text": [
      "The space on disk is (MB):  770.12\n"
     ]
    }
   ],
   "source": [
    "final_memory_usage=sample_data.memory_usage(deep=True).sum() * 1e-6\n",
    "print(\"The space on disk is (MB): \",round(initial_memory_usage,2))"
   ]
  },
  {
   "cell_type": "code",
   "execution_count": 13,
   "metadata": {},
   "outputs": [
    {
     "name": "stdout",
     "output_type": "stream",
     "text": [
      "The initial space on disk was (MB):  770.12  and the final space on disk is (MB):  481.03\n"
     ]
    }
   ],
   "source": [
    "print(\"The initial space on disk was (MB): \",round(initial_memory_usage,2),\" and the final space on disk is (MB): \",round(final_memory_usage,2))"
   ]
  },
  {
   "cell_type": "markdown",
   "metadata": {},
   "source": [
    "### Store data as a pickle\n",
    "\n",
    "By storing the data as a pickle, the size on disk is reduced to 67% of the original size, and loads 10x faster."
   ]
  },
  {
   "cell_type": "code",
   "execution_count": 14,
   "metadata": {},
   "outputs": [],
   "source": [
    "sample_data.to_csv(\"../data/processed/sample_data.csv\")\n",
    "sample_data.to_pickle(\"../data/processed/sample_data.pkl\")"
   ]
  },
  {
   "cell_type": "code",
   "execution_count": 15,
   "metadata": {},
   "outputs": [
    {
     "name": "stdout",
     "output_type": "stream",
     "text": [
      "sample_data.csv (MB): 356.31\n",
      "sample_data.pkl (MB): 239.06\n"
     ]
    }
   ],
   "source": [
    "# size is shown in bytes again and needs to be converted to megabytes\n",
    "print(\"sample_data.csv (MB):\", round(os.stat('../data/processed/sample_data.csv').st_size * 1e-6,2))\n",
    "print(\"sample_data.pkl (MB):\", round(os.stat('../data/processed/sample_data.pkl').st_size * 1e-6,2))"
   ]
  },
  {
   "cell_type": "code",
   "execution_count": 16,
   "metadata": {},
   "outputs": [
    {
     "name": "stdout",
     "output_type": "stream",
     "text": [
      "CPU times: user 285 ms, sys: 148 ms, total: 433 ms\n",
      "Wall time: 434 ms\n"
     ]
    }
   ],
   "source": [
    "%%time\n",
    "train = pd.read_pickle(\"../data/processed/sample_data.pkl\")"
   ]
  },
  {
   "cell_type": "code",
   "execution_count": 17,
   "metadata": {},
   "outputs": [
    {
     "name": "stdout",
     "output_type": "stream",
     "text": [
      "CPU times: user 4.61 s, sys: 375 ms, total: 4.98 s\n",
      "Wall time: 4.43 s\n"
     ]
    }
   ],
   "source": [
    "%%time\n",
    "train = pd.read_csv(\"../data/processed/sample_data.csv\")"
   ]
  }
 ],
 "metadata": {
  "kernelspec": {
   "display_name": "Python 3",
   "language": "python",
   "name": "python3"
  },
  "language_info": {
   "codemirror_mode": {
    "name": "ipython",
    "version": 3
   },
   "file_extension": ".py",
   "mimetype": "text/x-python",
   "name": "python",
   "nbconvert_exporter": "python",
   "pygments_lexer": "ipython3",
   "version": "3.7.4"
  }
 },
 "nbformat": 4,
 "nbformat_minor": 4
}
